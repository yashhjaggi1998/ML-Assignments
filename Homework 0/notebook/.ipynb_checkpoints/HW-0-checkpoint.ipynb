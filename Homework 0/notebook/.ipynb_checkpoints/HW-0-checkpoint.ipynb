{
 "cells": [
  {
   "cell_type": "code",
   "execution_count": 2,
   "id": "ad2da29a",
   "metadata": {},
   "outputs": [],
   "source": [
    "import pandas as pd\n",
    "import numpy as np"
   ]
  },
  {
   "cell_type": "markdown",
   "id": "c24ad7ef",
   "metadata": {},
   "source": [
    "read_csv() Method"
   ]
  },
  {
   "cell_type": "code",
   "execution_count": 58,
   "id": "29f5c595",
   "metadata": {},
   "outputs": [
    {
     "data": {
      "text/html": [
       "<div>\n",
       "<style scoped>\n",
       "    .dataframe tbody tr th:only-of-type {\n",
       "        vertical-align: middle;\n",
       "    }\n",
       "\n",
       "    .dataframe tbody tr th {\n",
       "        vertical-align: top;\n",
       "    }\n",
       "\n",
       "    .dataframe thead th {\n",
       "        text-align: right;\n",
       "    }\n",
       "</style>\n",
       "<table border=\"1\" class=\"dataframe\">\n",
       "  <thead>\n",
       "    <tr style=\"text-align: right;\">\n",
       "      <th></th>\n",
       "      <th>yearID</th>\n",
       "      <th>teamID</th>\n",
       "      <th>lgID</th>\n",
       "      <th>salary</th>\n",
       "    </tr>\n",
       "    <tr>\n",
       "      <th>playerID</th>\n",
       "      <th></th>\n",
       "      <th></th>\n",
       "      <th></th>\n",
       "      <th></th>\n",
       "    </tr>\n",
       "  </thead>\n",
       "  <tbody>\n",
       "    <tr>\n",
       "      <th>bedrost01</th>\n",
       "      <td>1985</td>\n",
       "      <td>ATL</td>\n",
       "      <td>NL</td>\n",
       "      <td>550000</td>\n",
       "    </tr>\n",
       "    <tr>\n",
       "      <th>benedbr01</th>\n",
       "      <td>1985</td>\n",
       "      <td>ATL</td>\n",
       "      <td>NL</td>\n",
       "      <td>545000</td>\n",
       "    </tr>\n",
       "    <tr>\n",
       "      <th>campri01</th>\n",
       "      <td>1985</td>\n",
       "      <td>ATL</td>\n",
       "      <td>NL</td>\n",
       "      <td>633333</td>\n",
       "    </tr>\n",
       "    <tr>\n",
       "      <th>ceronri01</th>\n",
       "      <td>1985</td>\n",
       "      <td>ATL</td>\n",
       "      <td>NL</td>\n",
       "      <td>625000</td>\n",
       "    </tr>\n",
       "    <tr>\n",
       "      <th>chambch01</th>\n",
       "      <td>1985</td>\n",
       "      <td>ATL</td>\n",
       "      <td>NL</td>\n",
       "      <td>800000</td>\n",
       "    </tr>\n",
       "    <tr>\n",
       "      <th>...</th>\n",
       "      <td>...</td>\n",
       "      <td>...</td>\n",
       "      <td>...</td>\n",
       "      <td>...</td>\n",
       "    </tr>\n",
       "    <tr>\n",
       "      <th>treinbl01</th>\n",
       "      <td>2015</td>\n",
       "      <td>WAS</td>\n",
       "      <td>NL</td>\n",
       "      <td>512800</td>\n",
       "    </tr>\n",
       "    <tr>\n",
       "      <th>ugglada01</th>\n",
       "      <td>2015</td>\n",
       "      <td>WAS</td>\n",
       "      <td>NL</td>\n",
       "      <td>507500</td>\n",
       "    </tr>\n",
       "    <tr>\n",
       "      <th>werthja01</th>\n",
       "      <td>2015</td>\n",
       "      <td>WAS</td>\n",
       "      <td>NL</td>\n",
       "      <td>21000000</td>\n",
       "    </tr>\n",
       "    <tr>\n",
       "      <th>zimmejo02</th>\n",
       "      <td>2015</td>\n",
       "      <td>WAS</td>\n",
       "      <td>NL</td>\n",
       "      <td>16500000</td>\n",
       "    </tr>\n",
       "    <tr>\n",
       "      <th>zimmery01</th>\n",
       "      <td>2015</td>\n",
       "      <td>WAS</td>\n",
       "      <td>NL</td>\n",
       "      <td>14000000</td>\n",
       "    </tr>\n",
       "  </tbody>\n",
       "</table>\n",
       "<p>25574 rows × 4 columns</p>\n",
       "</div>"
      ],
      "text/plain": [
       "           yearID teamID lgID    salary\n",
       "playerID                               \n",
       "bedrost01    1985    ATL   NL    550000\n",
       "benedbr01    1985    ATL   NL    545000\n",
       "campri01     1985    ATL   NL    633333\n",
       "ceronri01    1985    ATL   NL    625000\n",
       "chambch01    1985    ATL   NL    800000\n",
       "...           ...    ...  ...       ...\n",
       "treinbl01    2015    WAS   NL    512800\n",
       "ugglada01    2015    WAS   NL    507500\n",
       "werthja01    2015    WAS   NL  21000000\n",
       "zimmejo02    2015    WAS   NL  16500000\n",
       "zimmery01    2015    WAS   NL  14000000\n",
       "\n",
       "[25574 rows x 4 columns]"
      ]
     },
     "execution_count": 58,
     "metadata": {},
     "output_type": "execute_result"
    }
   ],
   "source": [
    "salariesDf = pd.read_csv('../data/salaries.csv', header=0, skiprows=[1])\n",
    "salariesDf.set_index('playerID', inplace=True)\n",
    "salariesDf"
   ]
  },
  {
   "cell_type": "markdown",
   "id": "5702e733",
   "metadata": {},
   "source": [
    "Indexing and Selecting Data"
   ]
  },
  {
   "cell_type": "code",
   "execution_count": 62,
   "id": "53688848",
   "metadata": {},
   "outputs": [
    {
     "name": "stdout",
     "output_type": "stream",
     "text": [
      "Index(['hornebo01', 'murphda05', 'suttebr01', 'ryanno01', 'hornebo01',\n",
      "       'murphda05', 'suttebr01', 'ryanno01', 'griffke01', 'murphda05',\n",
      "       ...\n",
      "       'feldmsc01', 'gonzama01', 'gregelu01', 'lowrije01', 'neshepa01',\n",
      "       'quallch01', 'rasmuco01', 'singljo02', 'sippto01', 'valbulu01'],\n",
      "      dtype='object', name='playerID', length=595)\n"
     ]
    }
   ],
   "source": [
    "condition = (salariesDf['teamID'].isin(['ATL', 'HOU'])) & (salariesDf['salary'] > 1000000)\n",
    "filtered_data = salariesDf.loc[condition].index\n",
    "\n",
    "print(filtered_data)"
   ]
  },
  {
   "cell_type": "code",
   "execution_count": 77,
   "id": "d6bf805a",
   "metadata": {},
   "outputs": [
    {
     "data": {
      "text/plain": [
       "'print(mean)\\nprint(maximum)\\nprint(minimum)\\nprint(quartile_1)\\nprint(median)\\nprint(quartile_3)\\nprint(std_dev)'"
      ]
     },
     "execution_count": 77,
     "metadata": {},
     "output_type": "execute_result"
    }
   ],
   "source": [
    "condition = (salariesDf['teamID'] == 'ATL')\n",
    "teamATL_data = salariesDf.loc[condition]\n",
    "#print( teamATL_data['salary'].describe() )\n",
    "\n",
    "mean = teamATL_data['salary'].describe()['mean']\n",
    "maximum = teamATL_data['salary'].describe()['max']\n",
    "minimum = teamATL_data['salary'].describe()['min']\n",
    "\n",
    "quartile_1 = teamATL_data['salary'].describe()['25%']\n",
    "median = teamATL_data['salary'].describe()['50%']\n",
    "quartile_3 = teamATL_data['salary'].describe()['75%']\n",
    "\n",
    "std_dev = teamATL_data['salary'].describe()['std']\n",
    "\n",
    "'''print(mean)\n",
    "print(maximum)\n",
    "print(minimum)\n",
    "print(quartile_1)\n",
    "print(median)\n",
    "print(quartile_3)\n",
    "print(std_dev)'''"
   ]
  },
  {
   "cell_type": "code",
   "execution_count": 110,
   "id": "689873a9",
   "metadata": {},
   "outputs": [],
   "source": [
    "dic = {'yearID': [], 'teamID': [], 'lgID': [], 'salary': []}\n",
    "\n",
    "indexName = salariesDf.index.name\n",
    "\n",
    "#creating empty dictionary with header values\n",
    "dic[indexName] = []\n",
    "for columnName in salariesDf.columns.tolist():\n",
    "    dic[columnName] = []\n",
    "\n",
    "#filling data using iterrows()\n",
    "for row in salariesDf.iterrows():\n",
    "    dic[indexName].append(row[0])\n",
    "    \n",
    "    for columnName in salariesDf.columns.tolist():\n",
    "        dic[columnName].append(row[1][columnName])"
   ]
  },
  {
   "cell_type": "code",
   "execution_count": 121,
   "id": "59e73ed7",
   "metadata": {},
   "outputs": [
    {
     "data": {
      "text/html": [
       "<div>\n",
       "<style scoped>\n",
       "    .dataframe tbody tr th:only-of-type {\n",
       "        vertical-align: middle;\n",
       "    }\n",
       "\n",
       "    .dataframe tbody tr th {\n",
       "        vertical-align: top;\n",
       "    }\n",
       "\n",
       "    .dataframe thead th {\n",
       "        text-align: right;\n",
       "    }\n",
       "</style>\n",
       "<table border=\"1\" class=\"dataframe\">\n",
       "  <thead>\n",
       "    <tr style=\"text-align: right;\">\n",
       "      <th></th>\n",
       "      <th>yearID</th>\n",
       "      <th>teamID</th>\n",
       "      <th>lgID</th>\n",
       "      <th>salary</th>\n",
       "      <th>playerID</th>\n",
       "    </tr>\n",
       "  </thead>\n",
       "  <tbody>\n",
       "    <tr>\n",
       "      <th>0</th>\n",
       "      <td>1985</td>\n",
       "      <td>ATL</td>\n",
       "      <td>NL</td>\n",
       "      <td>550000</td>\n",
       "      <td>bedrost01</td>\n",
       "    </tr>\n",
       "    <tr>\n",
       "      <th>1</th>\n",
       "      <td>1985</td>\n",
       "      <td>ATL</td>\n",
       "      <td>NL</td>\n",
       "      <td>545000</td>\n",
       "      <td>benedbr01</td>\n",
       "    </tr>\n",
       "    <tr>\n",
       "      <th>2</th>\n",
       "      <td>1985</td>\n",
       "      <td>ATL</td>\n",
       "      <td>NL</td>\n",
       "      <td>633333</td>\n",
       "      <td>campri01</td>\n",
       "    </tr>\n",
       "    <tr>\n",
       "      <th>3</th>\n",
       "      <td>1985</td>\n",
       "      <td>ATL</td>\n",
       "      <td>NL</td>\n",
       "      <td>625000</td>\n",
       "      <td>ceronri01</td>\n",
       "    </tr>\n",
       "    <tr>\n",
       "      <th>4</th>\n",
       "      <td>1985</td>\n",
       "      <td>ATL</td>\n",
       "      <td>NL</td>\n",
       "      <td>800000</td>\n",
       "      <td>chambch01</td>\n",
       "    </tr>\n",
       "    <tr>\n",
       "      <th>...</th>\n",
       "      <td>...</td>\n",
       "      <td>...</td>\n",
       "      <td>...</td>\n",
       "      <td>...</td>\n",
       "      <td>...</td>\n",
       "    </tr>\n",
       "    <tr>\n",
       "      <th>25569</th>\n",
       "      <td>2015</td>\n",
       "      <td>WAS</td>\n",
       "      <td>NL</td>\n",
       "      <td>512800</td>\n",
       "      <td>treinbl01</td>\n",
       "    </tr>\n",
       "    <tr>\n",
       "      <th>25570</th>\n",
       "      <td>2015</td>\n",
       "      <td>WAS</td>\n",
       "      <td>NL</td>\n",
       "      <td>507500</td>\n",
       "      <td>ugglada01</td>\n",
       "    </tr>\n",
       "    <tr>\n",
       "      <th>25571</th>\n",
       "      <td>2015</td>\n",
       "      <td>WAS</td>\n",
       "      <td>NL</td>\n",
       "      <td>21000000</td>\n",
       "      <td>werthja01</td>\n",
       "    </tr>\n",
       "    <tr>\n",
       "      <th>25572</th>\n",
       "      <td>2015</td>\n",
       "      <td>WAS</td>\n",
       "      <td>NL</td>\n",
       "      <td>16500000</td>\n",
       "      <td>zimmejo02</td>\n",
       "    </tr>\n",
       "    <tr>\n",
       "      <th>25573</th>\n",
       "      <td>2015</td>\n",
       "      <td>WAS</td>\n",
       "      <td>NL</td>\n",
       "      <td>14000000</td>\n",
       "      <td>zimmery01</td>\n",
       "    </tr>\n",
       "  </tbody>\n",
       "</table>\n",
       "<p>25574 rows × 5 columns</p>\n",
       "</div>"
      ],
      "text/plain": [
       "       yearID teamID lgID    salary   playerID\n",
       "0        1985    ATL   NL    550000  bedrost01\n",
       "1        1985    ATL   NL    545000  benedbr01\n",
       "2        1985    ATL   NL    633333   campri01\n",
       "3        1985    ATL   NL    625000  ceronri01\n",
       "4        1985    ATL   NL    800000  chambch01\n",
       "...       ...    ...  ...       ...        ...\n",
       "25569    2015    WAS   NL    512800  treinbl01\n",
       "25570    2015    WAS   NL    507500  ugglada01\n",
       "25571    2015    WAS   NL  21000000  werthja01\n",
       "25572    2015    WAS   NL  16500000  zimmejo02\n",
       "25573    2015    WAS   NL  14000000  zimmery01\n",
       "\n",
       "[25574 rows x 5 columns]"
      ]
     },
     "execution_count": 121,
     "metadata": {},
     "output_type": "execute_result"
    }
   ],
   "source": [
    "pd.DataFrame.from_dict(dic)"
   ]
  },
  {
   "cell_type": "markdown",
   "id": "992d4850",
   "metadata": {},
   "source": [
    "# Numpy"
   ]
  },
  {
   "cell_type": "code",
   "execution_count": 163,
   "id": "f2c81f2d",
   "metadata": {},
   "outputs": [
    {
     "name": "stdout",
     "output_type": "stream",
     "text": [
      "Ndim - 3\n",
      "Shape - (2, 2, 3)\n",
      "L2 Shape - (6,)\n",
      "Size - 12\n",
      "Item Size - 8\n",
      "dtype - float64\n",
      "size - <memory at 0x154061210>\n"
     ]
    }
   ],
   "source": [
    "l1 = [ [[1,2,3], [4,5,6]], [[11,12,13],[14,15,16]] ]\n",
    "l2 = [1,2,3,4,5,6]\n",
    "np_arr = np.array(l1, dtype=np.float64)\n",
    "\n",
    "print(\"Ndim - \" + str(np_arr.ndim))\n",
    "print(\"Shape - \" + str(np_arr.shape))\n",
    "print(\"L2 Shape - \" + str(np.array(l2).shape))\n",
    "print(\"Size - \" + str(np_arr.size))\n",
    "print(\"Item Size - \" + str(np_arr.itemsize)) #gives size of an individual arrayy, say [1,2,3] in bytes\n",
    "print(\"dtype - \" + str(np_arr.dtype))\n",
    "\n",
    "print(\"size - \" + str(np_arr.data))"
   ]
  },
  {
   "cell_type": "code",
   "execution_count": 162,
   "id": "cbbf8008",
   "metadata": {},
   "outputs": [
    {
     "data": {
      "text/plain": [
       "(12,)"
      ]
     },
     "execution_count": 162,
     "metadata": {},
     "output_type": "execute_result"
    }
   ],
   "source": [
    "l1 = [ [[1,2,3], [4,5,6]], [[11,12,13],[14,15,16]] ]\n",
    "npArr = np.array(l1)\n",
    "f = npArr.flatten()\n",
    "x = np.reshape(npArr, (1,12))\n",
    "f.shape"
   ]
  }
 ],
 "metadata": {
  "kernelspec": {
   "display_name": "Python 3 (ipykernel)",
   "language": "python",
   "name": "python3"
  },
  "language_info": {
   "codemirror_mode": {
    "name": "ipython",
    "version": 3
   },
   "file_extension": ".py",
   "mimetype": "text/x-python",
   "name": "python",
   "nbconvert_exporter": "python",
   "pygments_lexer": "ipython3",
   "version": "3.11.4"
  }
 },
 "nbformat": 4,
 "nbformat_minor": 5
}
