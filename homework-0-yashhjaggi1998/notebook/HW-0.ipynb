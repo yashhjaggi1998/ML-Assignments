{
 "cells": [
  {
   "cell_type": "code",
   "execution_count": 19,
   "id": "ad2da29a",
   "metadata": {},
   "outputs": [],
   "source": [
    "import pandas as pd\n",
    "import numpy as np"
   ]
  },
  {
   "cell_type": "markdown",
   "id": "c24ad7ef",
   "metadata": {},
   "source": [
    "read_csv() Method"
   ]
  },
  {
   "cell_type": "code",
   "execution_count": 20,
   "id": "29f5c595",
   "metadata": {},
   "outputs": [
    {
     "data": {
      "text/html": [
       "<div>\n",
       "<style scoped>\n",
       "    .dataframe tbody tr th:only-of-type {\n",
       "        vertical-align: middle;\n",
       "    }\n",
       "\n",
       "    .dataframe tbody tr th {\n",
       "        vertical-align: top;\n",
       "    }\n",
       "\n",
       "    .dataframe thead th {\n",
       "        text-align: right;\n",
       "    }\n",
       "</style>\n",
       "<table border=\"1\" class=\"dataframe\">\n",
       "  <thead>\n",
       "    <tr style=\"text-align: right;\">\n",
       "      <th></th>\n",
       "      <th>yearID</th>\n",
       "      <th>teamID</th>\n",
       "      <th>lgID</th>\n",
       "      <th>salary</th>\n",
       "    </tr>\n",
       "    <tr>\n",
       "      <th>playerID</th>\n",
       "      <th></th>\n",
       "      <th></th>\n",
       "      <th></th>\n",
       "      <th></th>\n",
       "    </tr>\n",
       "  </thead>\n",
       "  <tbody>\n",
       "    <tr>\n",
       "      <th>bedrost01</th>\n",
       "      <td>1985</td>\n",
       "      <td>ATL</td>\n",
       "      <td>NL</td>\n",
       "      <td>550000</td>\n",
       "    </tr>\n",
       "    <tr>\n",
       "      <th>benedbr01</th>\n",
       "      <td>1985</td>\n",
       "      <td>ATL</td>\n",
       "      <td>NL</td>\n",
       "      <td>545000</td>\n",
       "    </tr>\n",
       "    <tr>\n",
       "      <th>campri01</th>\n",
       "      <td>1985</td>\n",
       "      <td>ATL</td>\n",
       "      <td>NL</td>\n",
       "      <td>633333</td>\n",
       "    </tr>\n",
       "    <tr>\n",
       "      <th>ceronri01</th>\n",
       "      <td>1985</td>\n",
       "      <td>ATL</td>\n",
       "      <td>NL</td>\n",
       "      <td>625000</td>\n",
       "    </tr>\n",
       "    <tr>\n",
       "      <th>chambch01</th>\n",
       "      <td>1985</td>\n",
       "      <td>ATL</td>\n",
       "      <td>NL</td>\n",
       "      <td>800000</td>\n",
       "    </tr>\n",
       "    <tr>\n",
       "      <th>...</th>\n",
       "      <td>...</td>\n",
       "      <td>...</td>\n",
       "      <td>...</td>\n",
       "      <td>...</td>\n",
       "    </tr>\n",
       "    <tr>\n",
       "      <th>treinbl01</th>\n",
       "      <td>2015</td>\n",
       "      <td>WAS</td>\n",
       "      <td>NL</td>\n",
       "      <td>512800</td>\n",
       "    </tr>\n",
       "    <tr>\n",
       "      <th>ugglada01</th>\n",
       "      <td>2015</td>\n",
       "      <td>WAS</td>\n",
       "      <td>NL</td>\n",
       "      <td>507500</td>\n",
       "    </tr>\n",
       "    <tr>\n",
       "      <th>werthja01</th>\n",
       "      <td>2015</td>\n",
       "      <td>WAS</td>\n",
       "      <td>NL</td>\n",
       "      <td>21000000</td>\n",
       "    </tr>\n",
       "    <tr>\n",
       "      <th>zimmejo02</th>\n",
       "      <td>2015</td>\n",
       "      <td>WAS</td>\n",
       "      <td>NL</td>\n",
       "      <td>16500000</td>\n",
       "    </tr>\n",
       "    <tr>\n",
       "      <th>zimmery01</th>\n",
       "      <td>2015</td>\n",
       "      <td>WAS</td>\n",
       "      <td>NL</td>\n",
       "      <td>14000000</td>\n",
       "    </tr>\n",
       "  </tbody>\n",
       "</table>\n",
       "<p>25574 rows × 4 columns</p>\n",
       "</div>"
      ],
      "text/plain": [
       "           yearID teamID lgID    salary\n",
       "playerID                               \n",
       "bedrost01    1985    ATL   NL    550000\n",
       "benedbr01    1985    ATL   NL    545000\n",
       "campri01     1985    ATL   NL    633333\n",
       "ceronri01    1985    ATL   NL    625000\n",
       "chambch01    1985    ATL   NL    800000\n",
       "...           ...    ...  ...       ...\n",
       "treinbl01    2015    WAS   NL    512800\n",
       "ugglada01    2015    WAS   NL    507500\n",
       "werthja01    2015    WAS   NL  21000000\n",
       "zimmejo02    2015    WAS   NL  16500000\n",
       "zimmery01    2015    WAS   NL  14000000\n",
       "\n",
       "[25574 rows x 4 columns]"
      ]
     },
     "execution_count": 20,
     "metadata": {},
     "output_type": "execute_result"
    }
   ],
   "source": [
    "salariesDf = pd.read_csv('../data/salaries.csv', header=0, skiprows=[1])\n",
    "salariesDf.set_index('playerID', inplace=True)\n",
    "salariesDf"
   ]
  },
  {
   "cell_type": "markdown",
   "id": "5702e733",
   "metadata": {},
   "source": [
    "Indexing and Selecting Data"
   ]
  },
  {
   "cell_type": "code",
   "execution_count": 21,
   "id": "53688848",
   "metadata": {},
   "outputs": [
    {
     "name": "stdout",
     "output_type": "stream",
     "text": [
      "Index(['hornebo01', 'murphda05', 'suttebr01', 'ryanno01', 'hornebo01',\n",
      "       'murphda05', 'suttebr01', 'ryanno01', 'griffke01', 'murphda05',\n",
      "       ...\n",
      "       'feldmsc01', 'gonzama01', 'gregelu01', 'lowrije01', 'neshepa01',\n",
      "       'quallch01', 'rasmuco01', 'singljo02', 'sippto01', 'valbulu01'],\n",
      "      dtype='object', name='playerID', length=595)\n"
     ]
    }
   ],
   "source": [
    "condition = (salariesDf['teamID'].isin(['ATL', 'HOU'])) & (salariesDf['salary'] > 1000000)\n",
    "filtered_data = salariesDf.loc[condition].index\n",
    "\n",
    "print(filtered_data)"
   ]
  },
  {
   "cell_type": "code",
   "execution_count": 22,
   "id": "d6bf805a",
   "metadata": {},
   "outputs": [
    {
     "data": {
      "text/plain": [
       "'print(mean)\\nprint(maximum)\\nprint(minimum)\\nprint(quartile_1)\\nprint(median)\\nprint(quartile_3)\\nprint(std_dev)'"
      ]
     },
     "execution_count": 22,
     "metadata": {},
     "output_type": "execute_result"
    }
   ],
   "source": [
    "condition = (salariesDf['teamID'] == 'ATL')\n",
    "teamATL_data = salariesDf.loc[condition]\n",
    "#print( teamATL_data['salary'].describe() )\n",
    "\n",
    "mean = teamATL_data['salary'].describe()['mean']\n",
    "maximum = teamATL_data['salary'].describe()['max']\n",
    "minimum = teamATL_data['salary'].describe()['min']\n",
    "\n",
    "quartile_1 = teamATL_data['salary'].describe()['25%']\n",
    "median = teamATL_data['salary'].describe()['50%']\n",
    "quartile_3 = teamATL_data['salary'].describe()['75%']\n",
    "\n",
    "std_dev = teamATL_data['salary'].describe()['std']\n",
    "\n",
    "'''print(mean)\n",
    "print(maximum)\n",
    "print(minimum)\n",
    "print(quartile_1)\n",
    "print(median)\n",
    "print(quartile_3)\n",
    "print(std_dev)'''"
   ]
  },
  {
   "cell_type": "code",
   "execution_count": 23,
   "id": "689873a9",
   "metadata": {},
   "outputs": [],
   "source": [
    "dic = {'yearID': [], 'teamID': [], 'lgID': [], 'salary': []}\n",
    "\n",
    "indexName = salariesDf.index.name\n",
    "\n",
    "#creating empty dictionary with header values\n",
    "dic[indexName] = []\n",
    "for columnName in salariesDf.columns.tolist():\n",
    "    dic[columnName] = []\n",
    "\n",
    "#filling data using iterrows()\n",
    "for row in salariesDf.iterrows():\n",
    "    dic[indexName].append(row[0])\n",
    "    \n",
    "    for columnName in salariesDf.columns.tolist():\n",
    "        dic[columnName].append(row[1][columnName])"
   ]
  },
  {
   "cell_type": "code",
   "execution_count": 24,
   "id": "59e73ed7",
   "metadata": {},
   "outputs": [
    {
     "ename": "TypeError",
     "evalue": "Cannot specify both 'axis' and any of 'index' or 'columns'",
     "output_type": "error",
     "traceback": [
      "\u001b[0;31m---------------------------------------------------------------------------\u001b[0m",
      "\u001b[0;31mTypeError\u001b[0m                                 Traceback (most recent call last)",
      "Cell \u001b[0;32mIn[24], line 2\u001b[0m\n\u001b[1;32m      1\u001b[0m df \u001b[38;5;241m=\u001b[39m pd\u001b[38;5;241m.\u001b[39mDataFrame\u001b[38;5;241m.\u001b[39mfrom_dict(dic)\n\u001b[0;32m----> 2\u001b[0m df\u001b[38;5;241m.\u001b[39mrename(columns\u001b[38;5;241m=\u001b[39m{\u001b[38;5;124m\"\u001b[39m\u001b[38;5;124ma\u001b[39m\u001b[38;5;124m\"\u001b[39m: \u001b[38;5;124m\"\u001b[39m\u001b[38;5;124myearID\u001b[39m\u001b[38;5;124m\"\u001b[39m, \u001b[38;5;124m\"\u001b[39m\u001b[38;5;124mb\u001b[39m\u001b[38;5;124m\"\u001b[39m: \u001b[38;5;124m\"\u001b[39m\u001b[38;5;124mteamID\u001b[39m\u001b[38;5;124m\"\u001b[39m, \u001b[38;5;124m\"\u001b[39m\u001b[38;5;124mc\u001b[39m\u001b[38;5;124m\"\u001b[39m: \u001b[38;5;124m\"\u001b[39m\u001b[38;5;124mlgID\u001b[39m\u001b[38;5;124m\"\u001b[39m, \u001b[38;5;124m\"\u001b[39m\u001b[38;5;124md\u001b[39m\u001b[38;5;124m\"\u001b[39m: \u001b[38;5;124m\"\u001b[39m\u001b[38;5;124msalary\u001b[39m\u001b[38;5;124m\"\u001b[39m, \u001b[38;5;124m\"\u001b[39m\u001b[38;5;124me\u001b[39m\u001b[38;5;124m\"\u001b[39m: \u001b[38;5;124m\"\u001b[39m\u001b[38;5;124mplayerID\u001b[39m\u001b[38;5;124m\"\u001b[39m}, axis\u001b[38;5;241m=\u001b[39m\u001b[38;5;241m1\u001b[39m, errors\u001b[38;5;241m=\u001b[39m\u001b[38;5;124m\"\u001b[39m\u001b[38;5;124mraise\u001b[39m\u001b[38;5;124m\"\u001b[39m)\n",
      "File \u001b[0;32m~/anaconda3/lib/python3.11/site-packages/pandas/core/frame.py:5573\u001b[0m, in \u001b[0;36mDataFrame.rename\u001b[0;34m(self, mapper, index, columns, axis, copy, inplace, level, errors)\u001b[0m\n\u001b[1;32m   5454\u001b[0m \u001b[38;5;28;01mdef\u001b[39;00m \u001b[38;5;21mrename\u001b[39m(\n\u001b[1;32m   5455\u001b[0m     \u001b[38;5;28mself\u001b[39m,\n\u001b[1;32m   5456\u001b[0m     mapper: Renamer \u001b[38;5;241m|\u001b[39m \u001b[38;5;28;01mNone\u001b[39;00m \u001b[38;5;241m=\u001b[39m \u001b[38;5;28;01mNone\u001b[39;00m,\n\u001b[0;32m   (...)\u001b[0m\n\u001b[1;32m   5464\u001b[0m     errors: IgnoreRaise \u001b[38;5;241m=\u001b[39m \u001b[38;5;124m\"\u001b[39m\u001b[38;5;124mignore\u001b[39m\u001b[38;5;124m\"\u001b[39m,\n\u001b[1;32m   5465\u001b[0m ) \u001b[38;5;241m-\u001b[39m\u001b[38;5;241m>\u001b[39m DataFrame \u001b[38;5;241m|\u001b[39m \u001b[38;5;28;01mNone\u001b[39;00m:\n\u001b[1;32m   5466\u001b[0m \u001b[38;5;250m    \u001b[39m\u001b[38;5;124;03m\"\"\"\u001b[39;00m\n\u001b[1;32m   5467\u001b[0m \u001b[38;5;124;03m    Alter axes labels.\u001b[39;00m\n\u001b[1;32m   5468\u001b[0m \n\u001b[0;32m   (...)\u001b[0m\n\u001b[1;32m   5571\u001b[0m \u001b[38;5;124;03m    4  3  6\u001b[39;00m\n\u001b[1;32m   5572\u001b[0m \u001b[38;5;124;03m    \"\"\"\u001b[39;00m\n\u001b[0;32m-> 5573\u001b[0m     \u001b[38;5;28;01mreturn\u001b[39;00m \u001b[38;5;28msuper\u001b[39m()\u001b[38;5;241m.\u001b[39m_rename(\n\u001b[1;32m   5574\u001b[0m         mapper\u001b[38;5;241m=\u001b[39mmapper,\n\u001b[1;32m   5575\u001b[0m         index\u001b[38;5;241m=\u001b[39mindex,\n\u001b[1;32m   5576\u001b[0m         columns\u001b[38;5;241m=\u001b[39mcolumns,\n\u001b[1;32m   5577\u001b[0m         axis\u001b[38;5;241m=\u001b[39maxis,\n\u001b[1;32m   5578\u001b[0m         copy\u001b[38;5;241m=\u001b[39mcopy,\n\u001b[1;32m   5579\u001b[0m         inplace\u001b[38;5;241m=\u001b[39minplace,\n\u001b[1;32m   5580\u001b[0m         level\u001b[38;5;241m=\u001b[39mlevel,\n\u001b[1;32m   5581\u001b[0m         errors\u001b[38;5;241m=\u001b[39merrors,\n\u001b[1;32m   5582\u001b[0m     )\n",
      "File \u001b[0;32m~/anaconda3/lib/python3.11/site-packages/pandas/core/generic.py:1062\u001b[0m, in \u001b[0;36mNDFrame._rename\u001b[0;34m(self, mapper, index, columns, axis, copy, inplace, level, errors)\u001b[0m\n\u001b[1;32m   1060\u001b[0m \u001b[38;5;28;01mif\u001b[39;00m index \u001b[38;5;129;01mis\u001b[39;00m \u001b[38;5;129;01mnot\u001b[39;00m \u001b[38;5;28;01mNone\u001b[39;00m \u001b[38;5;129;01mor\u001b[39;00m columns \u001b[38;5;129;01mis\u001b[39;00m \u001b[38;5;129;01mnot\u001b[39;00m \u001b[38;5;28;01mNone\u001b[39;00m:\n\u001b[1;32m   1061\u001b[0m     \u001b[38;5;28;01mif\u001b[39;00m axis \u001b[38;5;129;01mis\u001b[39;00m \u001b[38;5;129;01mnot\u001b[39;00m \u001b[38;5;28;01mNone\u001b[39;00m:\n\u001b[0;32m-> 1062\u001b[0m         \u001b[38;5;28;01mraise\u001b[39;00m \u001b[38;5;167;01mTypeError\u001b[39;00m(\n\u001b[1;32m   1063\u001b[0m             \u001b[38;5;124m\"\u001b[39m\u001b[38;5;124mCannot specify both \u001b[39m\u001b[38;5;124m'\u001b[39m\u001b[38;5;124maxis\u001b[39m\u001b[38;5;124m'\u001b[39m\u001b[38;5;124m and any of \u001b[39m\u001b[38;5;124m'\u001b[39m\u001b[38;5;124mindex\u001b[39m\u001b[38;5;124m'\u001b[39m\u001b[38;5;124m or \u001b[39m\u001b[38;5;124m'\u001b[39m\u001b[38;5;124mcolumns\u001b[39m\u001b[38;5;124m'\u001b[39m\u001b[38;5;124m\"\u001b[39m\n\u001b[1;32m   1064\u001b[0m         )\n\u001b[1;32m   1065\u001b[0m     \u001b[38;5;28;01melif\u001b[39;00m mapper \u001b[38;5;129;01mis\u001b[39;00m \u001b[38;5;129;01mnot\u001b[39;00m \u001b[38;5;28;01mNone\u001b[39;00m:\n\u001b[1;32m   1066\u001b[0m         \u001b[38;5;28;01mraise\u001b[39;00m \u001b[38;5;167;01mTypeError\u001b[39;00m(\n\u001b[1;32m   1067\u001b[0m             \u001b[38;5;124m\"\u001b[39m\u001b[38;5;124mCannot specify both \u001b[39m\u001b[38;5;124m'\u001b[39m\u001b[38;5;124mmapper\u001b[39m\u001b[38;5;124m'\u001b[39m\u001b[38;5;124m and any of \u001b[39m\u001b[38;5;124m'\u001b[39m\u001b[38;5;124mindex\u001b[39m\u001b[38;5;124m'\u001b[39m\u001b[38;5;124m or \u001b[39m\u001b[38;5;124m'\u001b[39m\u001b[38;5;124mcolumns\u001b[39m\u001b[38;5;124m'\u001b[39m\u001b[38;5;124m\"\u001b[39m\n\u001b[1;32m   1068\u001b[0m         )\n",
      "\u001b[0;31mTypeError\u001b[0m: Cannot specify both 'axis' and any of 'index' or 'columns'"
     ]
    }
   ],
   "source": [
    "df = pd.DataFrame.from_dict(dic)\n",
    "df.rename(columns={\"a\": \"yearID\", \"b\": \"teamID\", \"c\": \"lgID\", \"d\": \"salary\", \"e\": \"playerID\"}, axis=1, errors=\"raise\")\n"
   ]
  },
  {
   "cell_type": "markdown",
   "id": "992d4850",
   "metadata": {},
   "source": [
    "# Numpy"
   ]
  },
  {
   "cell_type": "code",
   "execution_count": null,
   "id": "f2c81f2d",
   "metadata": {},
   "outputs": [],
   "source": [
    "l1 = [ [[1,2,3], [4,5,6]], [[11,12,13],[14,15,16]] ]\n",
    "l2 = [1,2,3,4,5,6]\n",
    "np_arr = np.array(l1, dtype=np.float64)\n",
    "\n",
    "print(\"Ndim - \" + str(np_arr.ndim))\n",
    "print(\"Shape - \" + str(np_arr.shape))\n",
    "print(\"L2 Shape - \" + str(np.array(l2).shape))\n",
    "print(\"Size - \" + str(np_arr.size))\n",
    "print(\"Item Size - \" + str(np_arr.itemsize)) #gives size of an individual arrayy, say [1,2,3] in bytes\n",
    "print(\"dtype - \" + str(np_arr.dtype))\n",
    "\n",
    "print(\"size - \" + str(np_arr.data))"
   ]
  },
  {
   "cell_type": "code",
   "execution_count": null,
   "id": "cbbf8008",
   "metadata": {},
   "outputs": [],
   "source": [
    "l1 = [ [[1,2,3], [4,5,6]], [[11,12,13],[14,15,16]] ]\n",
    "npArr = np.array(l1)\n",
    "f = npArr.flatten()\n",
    "x = np.reshape(npArr, (1,12))\n",
    "f.shape"
   ]
  },
  {
   "cell_type": "markdown",
   "id": "c50582ce",
   "metadata": {},
   "source": [
    "# Matplotlib"
   ]
  },
  {
   "cell_type": "code",
   "execution_count": null,
   "id": "0a2b458b",
   "metadata": {},
   "outputs": [],
   "source": [
    "import matplotlib.pyplot as plt"
   ]
  },
  {
   "cell_type": "code",
   "execution_count": null,
   "id": "8c7ca41e",
   "metadata": {},
   "outputs": [],
   "source": [
    "r = np.arange(0,10, 0.1)\n",
    "\n",
    "x = np.linspace(-5, 5, num=20)\n",
    "y = np.array([j ** 2 for j in x])\n",
    "\n",
    "\n",
    "#x = [20, 40, 60, 80, 100, 120, 140]\n",
    "#y = [10, 11, 12, 13, 14, 15, 16]\n",
    "\n",
    "z = np.sin(r)\n",
    "\n",
    "plt.plot(x, y, \":\", label=\"Sqaure Plot Dotted\")\n",
    "plt.plot(z, \"-.\", label=\"Sine Curve\")\n",
    "plt.title(\"HMW - 0 PLOT\")\n",
    "plt.xlabel(\"X-Axis\")\n",
    "plt.ylabel(\"Y-Axis\")\n",
    "plt.grid(color='black', linestyle=':', linewidth=1)\n",
    "plt.legend()\n",
    "\n",
    "plt.show()"
   ]
  },
  {
   "cell_type": "code",
   "execution_count": null,
   "id": "e93a9149",
   "metadata": {},
   "outputs": [],
   "source": [
    "x = np.linspace(-5, 5, num=20)\n",
    "np.random.shuffle(x)\n",
    "y = np.array([j ** 2 for j in x])\n",
    "\n",
    "plt.plot(x, y, \":\", label=\"Random Plot Dotted\")\n",
    "plt.text(-1, 20, r'Random x array')"
   ]
  },
  {
   "cell_type": "code",
   "execution_count": null,
   "id": "493b0fd4",
   "metadata": {},
   "outputs": [],
   "source": [
    "x = np.linspace(-5, 5, num=20)\n",
    "y1 = np.array([j for j in x])\n",
    "y2 = np.array([j ** 2 for j in x])\n",
    "y3 = np.array([j ** 3 for j in x])\n",
    "\n",
    "plt.subplot(2,3,1)\n",
    "plt.plot(x, y1, \":\", label=\"Y1 Plot Dotted\")\n",
    "plt.text(0, 4, r'$y = x$')\n",
    "\n",
    "\n",
    "plt.subplot(2,3,2)\n",
    "plt.plot(x, y2, \"-.\", label=\"Y1 Plot Dotted\")\n",
    "plt.text(0, 20, r'$y = x^2$')\n",
    "\n",
    "plt.subplot(2,3,3)\n",
    "plt.plot(x, y3, \"-\", label=\"Y1 Plot Dotted\")\n",
    "plt.text(0, 50, r'$y = x^3$')"
   ]
  },
  {
   "cell_type": "code",
   "execution_count": null,
   "id": "ec55f006",
   "metadata": {},
   "outputs": [],
   "source": [
    "x = np.linspace(-5, 5, num=20)\n",
    "y1 = np.array([j for j in x])\n",
    "y2 = np.array([j ** 2 for j in x])\n",
    "y3 = np.array([j ** 3 for j in x])\n",
    "\n",
    "plt.plot(x, y1, \":\", label=\"Y1 Plot Dotted\")\n",
    "plt.text(0, 4, r'$y = x$')\n",
    "\n",
    "plt.plot(x, y2, \"-.\", label=\"Y1 Plot Dotted\")\n",
    "plt.text(0, 20, r'$y = x^2$')\n",
    "\n",
    "plt.plot(x, y3, \"-\", label=\"Y1 Plot Dotted\")\n",
    "plt.text(0, 50, r'$y = x^3$')\n",
    "\n",
    "plt.show()"
   ]
  },
  {
   "cell_type": "code",
   "execution_count": null,
   "id": "f790ca07",
   "metadata": {},
   "outputs": [],
   "source": [
    "x = np.linspace(-5, 5, num=20)\n",
    "y1 = np.array([j for j in x])\n",
    "y2 = np.array([j ** 2 for j in x])\n",
    "y3 = np.array([j ** 3 for j in x])\n",
    "\n",
    "fig, ax = plt.subplots(1, 3, figsize=(8,4), gridspec_kw={'width_ratios': [1, 3, 4]})\n",
    "fig.tight_layout()\n",
    "\n",
    "ax[0].plot(x, y1, color='red')\n",
    "ax[0].title.set_text(\"Linear\")\n",
    "ax[0].title.set_size(10)\n",
    "ax[0].title.set_family(\"cursive\")\n",
    "\n",
    "ax[1].plot(x, y2, color='blue')\n",
    "ax[1].title.set_text(\"Quadratic\")\n",
    "ax[1].title.set_size(15)\n",
    "ax[1].title.set_family(\"serif\")\n",
    "\n",
    "ax[2].plot(x, y3, color=\"green\")\n",
    "ax[2].title.set_text(\"Cube\")\n",
    "ax[2].title.set_size(20)\n",
    "ax[2].title.set_family(\"fantasy\")\n"
   ]
  },
  {
   "cell_type": "code",
   "execution_count": null,
   "id": "a52a6297",
   "metadata": {},
   "outputs": [],
   "source": [
    "x = np.linspace(-5, 5, num=20)\n",
    "y = np.array([j ** 2 for j in x])\n",
    "\n",
    "plt.yscale(\"log\")\n",
    "plt.xscale(\"log\")\n",
    "plt.plot(x,y)"
   ]
  }
 ],
 "metadata": {
  "kernelspec": {
   "display_name": "Python 3 (ipykernel)",
   "language": "python",
   "name": "python3"
  },
  "language_info": {
   "codemirror_mode": {
    "name": "ipython",
    "version": 3
   },
   "file_extension": ".py",
   "mimetype": "text/x-python",
   "name": "python",
   "nbconvert_exporter": "python",
   "pygments_lexer": "ipython3",
   "version": "3.11.4"
  }
 },
 "nbformat": 4,
 "nbformat_minor": 5
}
